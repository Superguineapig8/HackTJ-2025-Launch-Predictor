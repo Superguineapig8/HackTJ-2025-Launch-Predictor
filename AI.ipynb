import os
import torch
from torch import nn

import torchvision
from torchvision import datasets
from torchvision.transforms import ToTensor
from torch.utils.data import DataLoader, Subset, datasets

from torchsummary import summary
from tqdm import tqdm

from numpy as np
import pandas as pd
import glob

import matplotlib as plt
import matplotlib.pyplot as plt
from matplotlib.pyplot as pltfrom torch.utils.data import DataLoader, TensorDataset
